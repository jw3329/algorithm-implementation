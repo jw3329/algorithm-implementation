{
 "cells": [
  {
   "cell_type": "code",
   "execution_count": 7,
   "metadata": {},
   "outputs": [],
   "source": [
    "def quicksort(arr):\n",
    "    quicksortHelper(arr,0,len(arr)-1)"
   ]
  },
  {
   "cell_type": "code",
   "execution_count": 8,
   "metadata": {},
   "outputs": [],
   "source": [
    "def quicksortHelper(arr,start,end):\n",
    "    if start >= end: return\n",
    "    pivot_index = partition2(arr,start,end)\n",
    "    quicksortHelper(arr,start,pivot_index-1)\n",
    "    quicksortHelper(arr,pivot_index+1,end)"
   ]
  },
  {
   "cell_type": "code",
   "execution_count": 9,
   "metadata": {},
   "outputs": [],
   "source": [
    "'''\n",
    "    select the last element as the pivot, set i as start index - 1,\n",
    "    then interate from start index to end - 1 index as j,\n",
    "    if arr[j] is less than or equal to pivot value, then increment i as 1,\n",
    "    then swap those element.\n",
    "    After, swap pivot element and i + 1 element, where pivot index is now i + 1,\n",
    "    so return i + 1\n",
    "'''\n",
    "\n",
    "def partition(arr,start,end):\n",
    "    pivot = arr[end]\n",
    "    i = start - 1\n",
    "    for j in range(start,end):\n",
    "        if arr[j] <= pivot:\n",
    "            i += 1\n",
    "            swap(arr,i,j)\n",
    "    swap(arr,i+1,end)\n",
    "    return i+1"
   ]
  },
  {
   "cell_type": "code",
   "execution_count": 10,
   "metadata": {},
   "outputs": [],
   "source": [
    "'''\n",
    "    select last element as the pivot, from start and end,\n",
    "    make a condition of while start is less than end, if\n",
    "    start element is bigger than pivot, and end element is less than pivot,\n",
    "    then swap it. Don't increment and decrement the start and end in here,\n",
    "    because exception can occur, and elif and else are dealing that condition.\n",
    "    When it is out of while loop, the start index should be same as end index.\n",
    "    We know that this index is \n",
    "'''\n",
    "\n",
    "def partition2(arr,start,end):\n",
    "    pivot = arr[end]\n",
    "    origin_end = end\n",
    "    while start < end:\n",
    "        if arr[start] > pivot and arr[end] < pivot:\n",
    "            swap(arr,start,end)\n",
    "        elif arr[start] > pivot: end -= 1\n",
    "        else: start += 1\n",
    "    swap(arr,start,origin_end)\n",
    "    return start"
   ]
  },
  {
   "cell_type": "code",
   "execution_count": 11,
   "metadata": {},
   "outputs": [],
   "source": [
    "def swap(arr,a,b):\n",
    "    temp = arr[a]\n",
    "    arr[a] = arr[b]\n",
    "    arr[b] = temp"
   ]
  },
  {
   "cell_type": "code",
   "execution_count": 35,
   "metadata": {},
   "outputs": [
    {
     "name": "stdout",
     "output_type": "stream",
     "text": [
      "[67, 51, 22, 13, 65, 92, 18, 36, 39, 4, 90, 24, 46, 63, 6, 94, 9, 56, 27, 1, 31, 24, 37, 53, 42, 60, 18, 84, 57, 44, 78, 31, 31, 57, 53, 86, 51, 15, 81, 66, 36, 82, 83, 16, 53, 74, 17, 76, 57, 23, 87, 94, 8, 79, 41, 16, 35, 32, 92, 84, 4, 49, 87, 81, 69, 51, 97, 16, 66, 55, 25, 28, 53, 35, 17, 57, 28, 23, 1, 63, 4, 4, 46, 63, 33, 24, 5, 83, 43, 75, 0, 30, 18, 25, 47, 4, 11, 34, 62, 67]\n"
     ]
    }
   ],
   "source": [
    "import random\n",
    "arr=[]\n",
    "for i in range(100):\n",
    "    arr.append(random.randint(0,100))\n",
    "print(arr)"
   ]
  },
  {
   "cell_type": "code",
   "execution_count": 26,
   "metadata": {},
   "outputs": [
    {
     "name": "stdout",
     "output_type": "stream",
     "text": [
      "53\n",
      "[1, 36, 53, 16, 15, 37, 18, 0, 9, 22, 28, 19, 44, 55, 39, 33, 5, 8, 46, 12, 45, 17, 27, 12, 57, 40, 26, 26, 42, 47, 33, 54, 51, 8, 54, 13, 36, 15, 42, 1, 13, 10, 17, 24, 40, 15, 6, 21, 47, 8, 10, 54, 41, 57, 60, 86, 74, 93, 94, 66, 85, 61, 58, 65, 76, 88, 93, 72, 88, 58, 63, 75, 83, 86, 74, 89, 66, 81, 68, 89, 87, 96, 71, 73, 85, 90, 71, 76, 97, 81, 81, 93, 89, 78, 66, 61, 65, 92, 81, 92]\n"
     ]
    }
   ],
   "source": [
    "print(partition2(arr,0,len(arr)-1))\n",
    "print(arr)"
   ]
  },
  {
   "cell_type": "code",
   "execution_count": 37,
   "metadata": {},
   "outputs": [
    {
     "name": "stdout",
     "output_type": "stream",
     "text": [
      "[0, 1, 1, 4, 4, 4, 4, 4, 5, 6, 8, 9, 11, 13, 15, 16, 16, 16, 17, 17, 18, 18, 18, 22, 23, 23, 24, 24, 24, 25, 25, 27, 28, 28, 30, 31, 31, 31, 32, 33, 34, 35, 35, 36, 36, 37, 39, 41, 42, 43, 44, 46, 46, 47, 49, 51, 51, 51, 53, 53, 53, 53, 55, 56, 57, 57, 57, 57, 60, 62, 63, 63, 63, 65, 66, 66, 67, 67, 69, 74, 75, 76, 78, 79, 81, 81, 82, 83, 83, 84, 84, 86, 87, 87, 90, 92, 92, 94, 94, 97]\n",
      "True\n"
     ]
    }
   ],
   "source": [
    "quicksort(arr)\n",
    "print(arr)\n",
    "print(arr == sorted(arr))"
   ]
  },
  {
   "cell_type": "code",
   "execution_count": null,
   "metadata": {},
   "outputs": [],
   "source": []
  }
 ],
 "metadata": {
  "kernelspec": {
   "display_name": "Python 3",
   "language": "python",
   "name": "python3"
  },
  "language_info": {
   "codemirror_mode": {
    "name": "ipython",
    "version": 3
   },
   "file_extension": ".py",
   "mimetype": "text/x-python",
   "name": "python",
   "nbconvert_exporter": "python",
   "pygments_lexer": "ipython3",
   "version": "3.6.4"
  }
 },
 "nbformat": 4,
 "nbformat_minor": 2
}
