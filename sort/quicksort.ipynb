{
 "cells": [
  {
   "cell_type": "code",
   "execution_count": 1,
   "metadata": {},
   "outputs": [],
   "source": [
    "def quicksort(arr):\n",
    "    quicksortHelper(arr,0,len(arr)-1)"
   ]
  },
  {
   "cell_type": "code",
   "execution_count": 2,
   "metadata": {},
   "outputs": [],
   "source": [
    "def swap(arr,a,b):\n",
    "    temp = arr[a]\n",
    "    arr[a] = arr[b]\n",
    "    arr[b] = temp"
   ]
  },
  {
   "cell_type": "code",
   "execution_count": 17,
   "metadata": {},
   "outputs": [],
   "source": [
    "def partition3(arr,start,end):\n",
    "    pivot = arr[end]\n",
    "    origin_end = end\n",
    "    end -= 1\n",
    "    while start < end:\n",
    "        if arr[start] >= pivot and arr[end] < pivot:\n",
    "            swap(arr,start,end)\n",
    "            start += 1\n",
    "            end -= 1\n",
    "        elif arr[start] >= pivot: \n",
    "            end -= 1\n",
    "        else:\n",
    "            start += 1\n",
    "    swap(arr,start,origin_end)\n",
    "    return start"
   ]
  },
  {
   "cell_type": "code",
   "execution_count": 4,
   "metadata": {},
   "outputs": [],
   "source": [
    "def quicksortHelper(arr,start,end):\n",
    "    if start >= end: return\n",
    "    pivot_index = partition3(arr,start,end)\n",
    "    quicksortHelper(arr,start,pivot_index-1)\n",
    "    quicksortHelper(arr,pivot_index+1,end)"
   ]
  },
  {
   "cell_type": "code",
   "execution_count": 5,
   "metadata": {},
   "outputs": [],
   "source": [
    "'''\n",
    "    select the last element as the pivot, set i as start index - 1,\n",
    "    then interate from start index to end - 1 index as j,\n",
    "    if arr[j] is less than or equal to pivot value, then increment i as 1,\n",
    "    then swap those element.\n",
    "    After, swap pivot element and i + 1 element, where pivot index is now i + 1,\n",
    "    so return i + 1\n",
    "'''\n",
    "\n",
    "def partition(arr,start,end):\n",
    "    pivot = arr[end]\n",
    "    i = start - 1\n",
    "    for j in range(start,end):\n",
    "        if arr[j] <= pivot:\n",
    "            i += 1\n",
    "            swap(arr,i,j)\n",
    "    swap(arr,i+1,end)\n",
    "    return i+1"
   ]
  },
  {
   "cell_type": "code",
   "execution_count": 6,
   "metadata": {},
   "outputs": [],
   "source": [
    "'''\n",
    "    select last element as the pivot, from start and end,\n",
    "    make a condition of while start is less than end, if\n",
    "    start element is bigger than pivot, and end element is less than pivot,\n",
    "    then swap it. Don't increment and decrement the start and end in here,\n",
    "    because exception can occur, and elif and else are dealing that condition.\n",
    "    When it is out of while loop, the start index should be same as end index.\n",
    "    We know that this index is \n",
    "'''\n",
    "\n",
    "def partition2(arr,start,end):\n",
    "    pivot = arr[end]\n",
    "    origin_end = end\n",
    "    while start < end:\n",
    "        if arr[start] > pivot and arr[end] < pivot:\n",
    "            swap(arr,start,end)\n",
    "        elif arr[start] > pivot: end -= 1\n",
    "        else: start += 1\n",
    "    swap(arr,start,origin_end)\n",
    "    return start"
   ]
  },
  {
   "cell_type": "code",
   "execution_count": 15,
   "metadata": {},
   "outputs": [
    {
     "name": "stdout",
     "output_type": "stream",
     "text": [
      "[5, 4, 3, 6, 8, 3, 1, 2, 6, 4] 0 7\n",
      "[2, 4, 3, 6, 8, 3, 1, 5, 6, 4] 1 6\n",
      "[2, 1, 3, 6, 8, 3, 4, 5, 6, 4] 2 5\n",
      "[2, 1, 3, 6, 8, 3, 4, 5, 6, 4] 3 5\n",
      "[2, 1, 3, 3, 8, 6, 4, 5, 6, 4] 4 4\n",
      "4 [2, 1, 3, 3, 4, 6, 4, 5, 6, 8]\n"
     ]
    }
   ],
   "source": [
    "test_arr = [5,4 ,3 ,6 ,8 ,3 ,1 ,2 ,6 ,4]\n",
    "print(partition3(test_arr,0,len(test_arr)-1), test_arr)"
   ]
  },
  {
   "cell_type": "code",
   "execution_count": 7,
   "metadata": {},
   "outputs": [
    {
     "name": "stdout",
     "output_type": "stream",
     "text": [
      "[62, 11, 46, 56, 91, 17, 44, 39, 44, 89, 4, 42, 31, 56, 94, 9, 26, 22, 26, 75, 20, 61, 58, 35, 11, 80, 81, 44, 73, 58, 99, 13, 64, 24, 34, 32, 40, 66, 18, 47, 56, 36, 16, 50, 78, 29, 65, 18, 44, 54, 75, 59, 10, 45, 5, 48, 87, 69, 18, 4, 96, 25, 1, 48, 41, 21, 93, 37, 25, 70, 40, 72, 11, 8, 30, 72, 78, 18, 30, 84, 20, 32, 40, 0, 100, 49, 1, 61, 60, 42, 86, 95, 19, 16, 59, 95, 9, 54, 36, 40]\n"
     ]
    }
   ],
   "source": [
    "import random\n",
    "arr=[]\n",
    "for i in range(100):\n",
    "    arr.append(random.randint(0,100))\n",
    "print(arr)"
   ]
  },
  {
   "cell_type": "code",
   "execution_count": 8,
   "metadata": {},
   "outputs": [
    {
     "name": "stdout",
     "output_type": "stream",
     "text": [
      "44\n",
      "[36, 11, 9, 16, 19, 17, 1, 39, 0, 32, 4, 20, 31, 30, 18, 9, 26, 22, 26, 30, 20, 8, 11, 35, 11, 25, 37, 21, 1, 25, 4, 13, 18, 24, 34, 32, 40, 5, 18, 10, 18, 36, 16, 29, 40, 50, 65, 56, 44, 54, 75, 59, 47, 45, 66, 48, 87, 69, 64, 99, 96, 58, 73, 48, 41, 44, 93, 81, 80, 70, 40, 72, 58, 61, 75, 72, 78, 94, 56, 84, 42, 89, 40, 44, 100, 49, 44, 61, 60, 42, 86, 95, 91, 56, 59, 95, 46, 54, 62, 78]\n"
     ]
    }
   ],
   "source": [
    "print(partition2(arr,0,len(arr)-1))\n",
    "print(arr)"
   ]
  },
  {
   "cell_type": "code",
   "execution_count": 18,
   "metadata": {},
   "outputs": [
    {
     "name": "stdout",
     "output_type": "stream",
     "text": [
      "[1, 0, 4, 1, 5, 4, 9, 8, 10, 9, 11, 11, 13, 11, 16, 16, 17, 18, 18, 18, 19, 18, 20, 20, 21, 22, 24, 25, 25, 26, 26, 30, 29, 31, 30, 32, 32, 35, 34, 36, 36, 37, 39, 40, 40, 40, 40, 41, 42, 42, 44, 44, 44, 44, 45, 46, 47, 48, 48, 49, 50, 54, 54, 56, 56, 56, 58, 58, 59, 59, 60, 61, 61, 62, 64, 65, 66, 70, 69, 72, 72, 73, 75, 75, 78, 78, 80, 81, 84, 86, 89, 87, 93, 91, 95, 94, 96, 95, 100, 99]\n",
      "False\n"
     ]
    }
   ],
   "source": [
    "quicksort(arr)\n",
    "print(arr)\n",
    "print(arr == sorted(arr))"
   ]
  },
  {
   "cell_type": "code",
   "execution_count": null,
   "metadata": {},
   "outputs": [],
   "source": []
  }
 ],
 "metadata": {
  "kernelspec": {
   "display_name": "Python 3",
   "language": "python",
   "name": "python3"
  },
  "language_info": {
   "codemirror_mode": {
    "name": "ipython",
    "version": 3
   },
   "file_extension": ".py",
   "mimetype": "text/x-python",
   "name": "python",
   "nbconvert_exporter": "python",
   "pygments_lexer": "ipython3",
   "version": "3.7.3"
  }
 },
 "nbformat": 4,
 "nbformat_minor": 2
}
