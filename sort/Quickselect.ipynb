{
 "cells": [
  {
   "cell_type": "code",
   "execution_count": 29,
   "metadata": {},
   "outputs": [],
   "source": [
    "#this selects kth minimum element in the array by default.\n",
    "#if minimum argument is false, then kth largest element\n",
    "def quickselect(arr,k,minimum=True):\n",
    "    if not minimum: k = len(arr) - k + 1\n",
    "    return quickselectHelper(arr,k,0,len(arr)-1)"
   ]
  },
  {
   "cell_type": "code",
   "execution_count": 30,
   "metadata": {},
   "outputs": [],
   "source": [
    "def quickselectHelper(arr,k,start,end):\n",
    "    if start >= end:\n",
    "        return arr[start]\n",
    "    pivot_index = partition(arr,start,end)\n",
    "    if pivot_index-start == k-1:\n",
    "        return arr[pivot_index]\n",
    "    if pivot_index-start > k-1:\n",
    "        return quickselectHelper(arr,k,start,pivot_index-1)\n",
    "    return quickselectHelper(arr,k-pivot_index+start-1,pivot_index+1,end)"
   ]
  },
  {
   "cell_type": "code",
   "execution_count": 31,
   "metadata": {},
   "outputs": [],
   "source": [
    "def partition(arr,start,end):\n",
    "    pivot = arr[end]\n",
    "    origin_end = end\n",
    "    while start < end:\n",
    "        if arr[start] > pivot and arr[end] < pivot:\n",
    "            swap(arr,start,end)\n",
    "        elif arr[start] > pivot:\n",
    "            end -= 1\n",
    "        else:\n",
    "            start += 1\n",
    "    swap(arr,start,origin_end)\n",
    "    return start"
   ]
  },
  {
   "cell_type": "code",
   "execution_count": 32,
   "metadata": {},
   "outputs": [],
   "source": [
    "def swap(arr,i,j):\n",
    "    temp = arr[i]\n",
    "    arr[i] = arr[j]\n",
    "    arr[j] = temp"
   ]
  },
  {
   "cell_type": "code",
   "execution_count": 33,
   "metadata": {},
   "outputs": [],
   "source": [
    "import random\n",
    "arr = [random.randint(0,10) for _ in range(50)]"
   ]
  },
  {
   "cell_type": "code",
   "execution_count": 34,
   "metadata": {},
   "outputs": [],
   "source": [
    "arr_copy = arr.copy()"
   ]
  },
  {
   "cell_type": "code",
   "execution_count": 35,
   "metadata": {},
   "outputs": [
    {
     "name": "stdout",
     "output_type": "stream",
     "text": [
      "[7, 3, 10, 4, 9, 8, 5, 1, 0, 3, 2, 8, 1, 9, 1, 10, 1, 2, 8, 3, 3, 8, 0, 9, 3, 4, 4, 4, 10, 1, 9, 0, 7, 7, 1, 9, 6, 9, 8, 9, 6, 4, 5, 7, 8, 9, 0, 4, 2, 0]\n"
     ]
    }
   ],
   "source": [
    "#print(partition(arr_copy,0,8))\n",
    "print(arr_copy)"
   ]
  },
  {
   "cell_type": "code",
   "execution_count": 36,
   "metadata": {},
   "outputs": [
    {
     "name": "stdout",
     "output_type": "stream",
     "text": [
      "1\n"
     ]
    }
   ],
   "source": [
    "arr_copy = arr.copy()\n",
    "print(quickselect(arr_copy,10))"
   ]
  },
  {
   "cell_type": "code",
   "execution_count": 37,
   "metadata": {},
   "outputs": [
    {
     "name": "stdout",
     "output_type": "stream",
     "text": [
      "[0, 0, 0, 0, 0, 1, 1, 1, 1, 1, 1, 2, 2, 2, 3, 3, 3, 3, 3, 4, 4, 4, 4, 4, 4, 5, 5, 6, 6, 7, 7, 7, 7, 8, 8, 8, 8, 8, 8, 9, 9, 9, 9, 9, 9, 9, 9, 10, 10, 10]\n"
     ]
    }
   ],
   "source": [
    "print(sorted(arr))"
   ]
  },
  {
   "cell_type": "code",
   "execution_count": 38,
   "metadata": {},
   "outputs": [
    {
     "name": "stdout",
     "output_type": "stream",
     "text": [
      "1\n"
     ]
    }
   ],
   "source": [
    "print(sorted(arr)[9])"
   ]
  },
  {
   "cell_type": "code",
   "execution_count": 179,
   "metadata": {},
   "outputs": [],
   "source": [
    "import random\n",
    "import time"
   ]
  },
  {
   "cell_type": "code",
   "execution_count": 232,
   "metadata": {},
   "outputs": [
    {
     "name": "stdout",
     "output_type": "stream",
     "text": [
      "0.6109755039215088\n",
      "0.2928001880645752\n",
      "True\n"
     ]
    }
   ],
   "source": [
    "arr = [random.randint(0,10000) for _ in range(1000000)]\n",
    "random_ind = random.randint(0,1000000-1)\n",
    "t = time.time()\n",
    "a = sorted(arr)[random_ind]\n",
    "print(time.time() - t)\n",
    "t = time.time()\n",
    "b = quickselect(arr,random_ind+1)\n",
    "print(time.time() - t)\n",
    "print(a == b)"
   ]
  }
 ],
 "metadata": {
  "kernelspec": {
   "display_name": "Python 3",
   "language": "python",
   "name": "python3"
  },
  "language_info": {
   "codemirror_mode": {
    "name": "ipython",
    "version": 3
   },
   "file_extension": ".py",
   "mimetype": "text/x-python",
   "name": "python",
   "nbconvert_exporter": "python",
   "pygments_lexer": "ipython3",
   "version": "3.7.3"
  }
 },
 "nbformat": 4,
 "nbformat_minor": 2
}
