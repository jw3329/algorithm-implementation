{
 "cells": [
  {
   "cell_type": "code",
   "execution_count": 1,
   "metadata": {},
   "outputs": [],
   "source": [
    "import numpy as np\n",
    "import random"
   ]
  },
  {
   "cell_type": "code",
   "execution_count": 2,
   "metadata": {},
   "outputs": [],
   "source": [
    "def twoPoweredMM(A,B):\n",
    "    n = len(A)\n",
    "    if n == 1: return A[0] * B[0]\n",
    "    half = n // 2\n",
    "    leftUp = twoPoweredMM(A[:half,:half],B[:half,:half]) + twoPoweredMM(A[:half,half:],B[half:,:half])\n",
    "    rightUp = twoPoweredMM(A[:half,:half],B[:half,half:]) + twoPoweredMM(A[:half,half:],B[half:,half:])\n",
    "    leftDown = twoPoweredMM(A[half:,:half],B[:half,:half]) + twoPoweredMM(A[half:,half:],B[half:,:half])\n",
    "    rightDown = twoPoweredMM(A[half:,:half],B[:half,half:]) + twoPoweredMM(A[half:,half:],B[half:,half:])\n",
    "    resMatrix = np.zeros((n,n))\n",
    "    resMatrix[:half,:half] = leftUp\n",
    "    resMatrix[:half,half:] = rightUp\n",
    "    resMatrix[half:,:half] = leftDown\n",
    "    resMatrix[half:,half:] = rightDown\n",
    "    return resMatrix"
   ]
  },
  {
   "cell_type": "code",
   "execution_count": 3,
   "metadata": {},
   "outputs": [],
   "source": [
    "n = 16\n",
    "A = np.zeros((n,n))\n",
    "B = np.zeros((n,n))"
   ]
  },
  {
   "cell_type": "code",
   "execution_count": 4,
   "metadata": {},
   "outputs": [],
   "source": [
    "testA = np.array([[1,2],[3,4]])\n",
    "testB = np.array([[5,6],[7,8]])"
   ]
  },
  {
   "cell_type": "code",
   "execution_count": 5,
   "metadata": {},
   "outputs": [
    {
     "name": "stdout",
     "output_type": "stream",
     "text": [
      "[[ 7. 25. 34. 73. 16. 97. 29. 77. 84. 21. 87. 35. 45. 26. 33. 76.]\n",
      " [25. 96. 42.  4. 99. 15. 37. 46.  1.  3. 13. 40. 21. 38.  6.  9.]\n",
      " [44. 41.  8. 65. 35. 58. 73. 55. 12. 96. 57. 97. 45. 20. 86. 81.]\n",
      " [54. 53. 56. 89. 89.  0. 17. 63. 47. 25. 22. 60. 46. 48. 48. 12.]\n",
      " [ 4. 97.  5. 60. 75. 25. 83. 60. 23. 13. 84. 77. 59. 80. 63. 51.]\n",
      " [39. 35. 72. 61. 45. 44. 56. 58. 92. 80. 19. 57. 92.  5. 61. 38.]\n",
      " [44.  5. 42. 50. 24. 80. 13. 14. 64. 36. 69. 38. 92.  8. 30. 52.]\n",
      " [32. 65.  8. 45. 91. 38. 20. 29. 11. 67. 47. 77. 47. 83.  7. 79.]\n",
      " [71. 75. 21. 60. 31. 97. 80. 81.  3. 58.  9. 88. 72. 65. 46. 11.]\n",
      " [62. 58. 89. 66.  8. 54. 46. 83. 48. 92. 27. 23. 97. 83. 64. 36.]\n",
      " [32. 44. 99. 27. 59. 88. 92. 79.  3. 94. 73. 12. 54. 87. 24. 35.]\n",
      " [43.  7. 38. 90. 38. 78. 86. 78. 23.  5. 11. 15. 45. 21. 62. 67.]\n",
      " [29.  2. 16. 18. 21. 67. 90. 76. 92. 11. 96. 19. 37. 40. 99. 20.]\n",
      " [25. 51. 10. 64. 39. 14. 75. 49. 79. 71. 67.  6. 53. 79. 88. 20.]\n",
      " [ 5. 20. 59. 40. 80. 52. 87. 63. 88.  1. 40. 30. 18. 29. 57. 49.]\n",
      " [27. 81.  0. 24.  3. 72. 64. 74. 50.  4. 18. 14. 79. 18. 44. 82.]]\n",
      "[[82. 80. 25. 59. 77. 64. 59. 35. 40. 63. 11. 35. 95. 41. 17. 60.]\n",
      " [52. 79. 74. 69. 67. 81. 71. 66. 32. 19. 12. 89. 97. 52. 93. 86.]\n",
      " [60. 11. 31. 17. 16. 16. 74. 98. 49. 60. 61. 17.  1. 63. 85. 15.]\n",
      " [50. 38. 33. 46. 25. 56. 37. 65.  0. 26. 67. 95. 68. 17. 40. 66.]\n",
      " [21. 64. 68. 59.  1. 90. 70. 61. 23. 61. 80. 72. 79. 53. 33. 68.]\n",
      " [95. 37. 89. 85.  5. 78. 67. 77. 61. 47. 63. 84. 82. 45.  2.  6.]\n",
      " [83.  3. 79. 48. 26. 17. 33. 65.  9. 56. 62. 65.  0. 41. 45. 95.]\n",
      " [13. 46.  8.  1. 28. 27. 76. 75. 68. 23. 60. 87.  0. 56. 46. 56.]\n",
      " [56. 39.  6. 26.  4. 52. 15. 81.  3. 14. 70. 20. 89. 73. 20. 40.]\n",
      " [66. 68. 44. 50. 51.  7. 59. 25. 30. 75. 74. 62. 39. 60. 91. 73.]\n",
      " [ 4. 44. 93. 41. 69.  2. 67. 63. 65. 71. 14. 64. 60. 29. 22. 15.]\n",
      " [ 0. 42. 81. 96. 96. 85. 45. 11. 34. 70.  8. 75. 37. 64. 15. 75.]\n",
      " [72. 97. 86.  9. 20. 13. 62.  7. 60. 54. 77. 51. 29. 73. 93. 94.]\n",
      " [92.  7. 66. 96. 45. 32.  2. 52. 21. 36. 76. 88. 56. 12. 30. 56.]\n",
      " [65. 50. 62. 25. 50. 11. 93. 91. 11. 55. 91. 21. 90. 34. 51. 70.]\n",
      " [79. 23. 84. 46. 46. 84. 32. 95. 85. 16. 67. 61.  2. 85. 89. 68.]]\n"
     ]
    }
   ],
   "source": [
    "for i in range(n):\n",
    "    for j in range(n):\n",
    "        A[i,j] = random.randint(0,99)\n",
    "        B[i,j] = random.randint(0,99)\n",
    "print(A)\n",
    "print(B)"
   ]
  },
  {
   "cell_type": "code",
   "execution_count": 6,
   "metadata": {},
   "outputs": [
    {
     "name": "stdout",
     "output_type": "stream",
     "text": [
      "[[40742. 31872. 44486. 34115. 25980. 34511. 40079. 51162. 32324. 31559.\n",
      "  43619. 48954. 37999. 39018. 33265. 38622.]\n",
      " [23350. 24621. 30550. 26885. 19291. 28033. 29286. 29575. 17970. 22835.\n",
      "  24624. 34436. 26813. 24894. 25540. 32151.]\n",
      " [46794. 40698. 55056. 44067. 39666. 38935. 48877. 49632. 33074. 43316.\n",
      "  47855. 56339. 42254. 43914. 42992. 55815.]\n",
      " [35259. 35645. 37240. 33927. 27898. 35062. 40115. 42724. 22761. 33252.\n",
      "  40853. 45716. 40474. 34948. 34600. 45430.]\n",
      " [42505. 38369. 57078. 44584. 36644. 39588. 45451. 50805. 30371. 38731.\n",
      "  45991. 59573. 44255. 39973. 41219. 55920.]\n",
      " [47474. 41480. 45346. 35111. 29464. 35345. 47266. 50160. 29750. 40049.\n",
      "  51295. 48143. 41554. 46696. 44831. 52210.]\n",
      " [37907. 32708. 40444. 29488. 23392. 28790. 36033. 38334. 27966. 31854.\n",
      "  37382. 37936. 35129. 35266. 30562. 34936.]\n",
      " [39234. 35711. 48937. 43322. 32440. 39898. 37531. 40232. 29386. 35106.\n",
      "  40148. 52707. 38778. 37432. 37137. 47279.]\n",
      " [50596. 41800. 52458. 46815. 36402. 40724. 48007. 46371. 31579. 41636.\n",
      "  46132. 59705. 44739. 41105. 39737. 55276.]\n",
      " [57427. 43795. 49949. 40822. 35018. 34535. 51084. 55252. 35001. 42996.\n",
      "  55846. 56346. 44777. 46267. 51163. 55745.]\n",
      " [53345. 37170. 54489. 43276. 31574. 33249. 50299. 55496. 36752. 45241.\n",
      "  53019. 58286. 38545. 43100. 46399. 49660.]\n",
      " [43187. 28499. 40009. 30676. 22059. 32134. 38622. 47565. 26478. 30252.\n",
      "  44317. 45119. 31972. 34067. 32402. 42159.]\n",
      " [40227. 29564. 42215. 30549. 25684. 25178. 39945. 49107. 25897. 33973.\n",
      "  43554. 41574. 38685. 34304. 27840. 39332.]\n",
      " [45275. 35727. 44259. 35356. 29604. 27789. 40472. 48236. 23313. 35646.\n",
      "  48580. 48229. 43876. 35774. 38694. 49589.]\n",
      " [38344. 26798. 40033. 31380. 20847. 32678. 37756. 50620. 24205. 31102.\n",
      "  44518. 42310. 34533. 36646. 31110. 40171.]\n",
      " [40621. 31400. 40603. 28622. 23557. 31434. 35474. 42009. 28229. 24621.\n",
      "  37170. 42285. 31822. 35651. 34878. 41732.]]\n"
     ]
    }
   ],
   "source": [
    "print(twoPoweredMM(A,B))"
   ]
  },
  {
   "cell_type": "code",
   "execution_count": 7,
   "metadata": {},
   "outputs": [
    {
     "name": "stdout",
     "output_type": "stream",
     "text": [
      "[[ True  True  True  True  True  True  True  True  True  True  True  True\n",
      "   True  True  True  True]\n",
      " [ True  True  True  True  True  True  True  True  True  True  True  True\n",
      "   True  True  True  True]\n",
      " [ True  True  True  True  True  True  True  True  True  True  True  True\n",
      "   True  True  True  True]\n",
      " [ True  True  True  True  True  True  True  True  True  True  True  True\n",
      "   True  True  True  True]\n",
      " [ True  True  True  True  True  True  True  True  True  True  True  True\n",
      "   True  True  True  True]\n",
      " [ True  True  True  True  True  True  True  True  True  True  True  True\n",
      "   True  True  True  True]\n",
      " [ True  True  True  True  True  True  True  True  True  True  True  True\n",
      "   True  True  True  True]\n",
      " [ True  True  True  True  True  True  True  True  True  True  True  True\n",
      "   True  True  True  True]\n",
      " [ True  True  True  True  True  True  True  True  True  True  True  True\n",
      "   True  True  True  True]\n",
      " [ True  True  True  True  True  True  True  True  True  True  True  True\n",
      "   True  True  True  True]\n",
      " [ True  True  True  True  True  True  True  True  True  True  True  True\n",
      "   True  True  True  True]\n",
      " [ True  True  True  True  True  True  True  True  True  True  True  True\n",
      "   True  True  True  True]\n",
      " [ True  True  True  True  True  True  True  True  True  True  True  True\n",
      "   True  True  True  True]\n",
      " [ True  True  True  True  True  True  True  True  True  True  True  True\n",
      "   True  True  True  True]\n",
      " [ True  True  True  True  True  True  True  True  True  True  True  True\n",
      "   True  True  True  True]\n",
      " [ True  True  True  True  True  True  True  True  True  True  True  True\n",
      "   True  True  True  True]]\n"
     ]
    }
   ],
   "source": [
    "print(twoPoweredMM(A,B) == A@B)"
   ]
  }
 ],
 "metadata": {
  "kernelspec": {
   "display_name": "Python 3",
   "language": "python",
   "name": "python3"
  },
  "language_info": {
   "codemirror_mode": {
    "name": "ipython",
    "version": 3
   },
   "file_extension": ".py",
   "mimetype": "text/x-python",
   "name": "python",
   "nbconvert_exporter": "python",
   "pygments_lexer": "ipython3",
   "version": "3.6.4"
  }
 },
 "nbformat": 4,
 "nbformat_minor": 2
}
