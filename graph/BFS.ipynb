{
 "cells": [
  {
   "cell_type": "code",
   "execution_count": 1,
   "metadata": {},
   "outputs": [],
   "source": [
    "# Python3 Program to print BFS traversal \n",
    "# from a given source vertex. BFS(int s) \n",
    "# traverses vertices reachable from s. \n",
    "from collections import defaultdict \n",
    "\n",
    "# This class represents a directed graph \n",
    "# using adjacency list representation \n",
    "class Graph: \n",
    "\n",
    "\t# Constructor \n",
    "\tdef __init__(self): \n",
    "\n",
    "\t\t# default dictionary to store graph \n",
    "\t\tself.graph = defaultdict(list) \n",
    "\n",
    "\t# function to add an edge to graph \n",
    "\tdef addEdge(self,u,v): \n",
    "\t\tself.graph[u].append(v) \n",
    "\n",
    "\t# Function to print a BFS of graph \n",
    "\tdef BFS(self, s): \n",
    "\n",
    "\t\t# Mark all the vertices as not visited \n",
    "\t\tvisited = [False] * (len(self.graph)) \n",
    "\n",
    "\t\t# Create a queue for BFS \n",
    "\t\tqueue = [] \n",
    "\n",
    "\t\t# Mark the source node as \n",
    "\t\t# visited and enqueue it \n",
    "\t\tqueue.append(s) \n",
    "\t\tvisited[s] = True\n",
    "\n",
    "\t\twhile queue: \n",
    "\n",
    "\t\t\t# Dequeue a vertex from \n",
    "\t\t\t# queue and print it \n",
    "\t\t\ts = queue.pop(0) \n",
    "\t\t\tprint (s, end = \" \") \n",
    "\n",
    "\t\t\t# Get all adjacent vertices of the \n",
    "\t\t\t# dequeued vertex s. If a adjacent \n",
    "\t\t\t# has not been visited, then mark it \n",
    "\t\t\t# visited and enqueue it \n",
    "\t\t\tfor i in self.graph[s]: \n",
    "\t\t\t\tif visited[i] == False: \n",
    "\t\t\t\t\tqueue.append(i) \n",
    "\t\t\t\t\tvisited[i] = True"
   ]
  },
  {
   "cell_type": "code",
   "execution_count": 2,
   "metadata": {},
   "outputs": [],
   "source": [
    "class MyGraph: \n",
    "\n",
    "    # Constructor \n",
    "    def __init__(self): \n",
    "\n",
    "        # default dictionary to store graph \n",
    "        self.graph = defaultdict(list) \n",
    "\n",
    "    # function to add an edge to graph \n",
    "    def addEdge(self,u,v): \n",
    "        self.graph[u].append(v) \n",
    "\n",
    "    # Function to print a BFS of graph \n",
    "    def BFS(self, s): \n",
    "        queue = [s]\n",
    "        visited = [False for _ in range(len(self.graph))]\n",
    "        while queue:\n",
    "            curVertex = queue.pop(0)\n",
    "            visited[curVertex] = True\n",
    "            print(curVertex, end=' ')\n",
    "            for adjVertex in self.graph[curVertex]:\n",
    "                if not visited[adjVertex]:\n",
    "                    queue.append(adjVertex)"
   ]
  },
  {
   "cell_type": "code",
   "execution_count": 3,
   "metadata": {},
   "outputs": [
    {
     "name": "stdout",
     "output_type": "stream",
     "text": [
      "Following is Breadth First Traversal (starting from vertex 2)\n",
      "2 0 3 1 "
     ]
    }
   ],
   "source": [
    "# Driver code \n",
    "\n",
    "# Create a graph given in \n",
    "# the above diagram \n",
    "g = Graph() \n",
    "g.addEdge(0, 1) \n",
    "g.addEdge(0, 2) \n",
    "g.addEdge(1, 2) \n",
    "g.addEdge(2, 0) \n",
    "g.addEdge(2, 3) \n",
    "g.addEdge(3, 3) \n",
    "\n",
    "print (\"Following is Breadth First Traversal\"\n",
    "\t\t\t\t\" (starting from vertex 2)\") \n",
    "g.BFS(2) \n",
    "\n",
    "# This code is contributed by Neelam Yadav "
   ]
  },
  {
   "cell_type": "code",
   "execution_count": 4,
   "metadata": {},
   "outputs": [
    {
     "name": "stdout",
     "output_type": "stream",
     "text": [
      "Following is Breadth First Traversal (starting from vertex 2)\n",
      "2 0 3 1 "
     ]
    }
   ],
   "source": [
    "# Driver code \n",
    "\n",
    "# Create a graph given in \n",
    "# the above diagram \n",
    "g = MyGraph() \n",
    "g.addEdge(0, 1) \n",
    "g.addEdge(0, 2) \n",
    "g.addEdge(1, 2) \n",
    "g.addEdge(2, 0) \n",
    "g.addEdge(2, 3) \n",
    "g.addEdge(3, 3) \n",
    "\n",
    "print (\"Following is Breadth First Traversal\"\n",
    "\t\t\t\t\" (starting from vertex 2)\") \n",
    "g.BFS(2) \n",
    "\n",
    "# This code is contributed by Neelam Yadav "
   ]
  }
 ],
 "metadata": {
  "kernelspec": {
   "display_name": "Python 3",
   "language": "python",
   "name": "python3"
  },
  "language_info": {
   "codemirror_mode": {
    "name": "ipython",
    "version": 3
   },
   "file_extension": ".py",
   "mimetype": "text/x-python",
   "name": "python",
   "nbconvert_exporter": "python",
   "pygments_lexer": "ipython3",
   "version": "3.6.4"
  }
 },
 "nbformat": 4,
 "nbformat_minor": 2
}
