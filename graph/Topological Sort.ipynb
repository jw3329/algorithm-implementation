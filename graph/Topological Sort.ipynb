{
 "cells": [
  {
   "cell_type": "code",
   "execution_count": 7,
   "metadata": {},
   "outputs": [],
   "source": [
    "class Graph:\n",
    "    def __init__(self,v=0):\n",
    "        self.vertices = [[] for _ in range(v)]\n",
    "        \n",
    "    def addEdge(self,u,v):\n",
    "        self.vertices[u].append(v)\n",
    "    \n",
    "    def topologicalSort(self):\n",
    "        visited = [False for _ in range(len(self.vertices))]\n",
    "        stack = []\n",
    "        for i in range(len(self.vertices)):\n",
    "            if not visited[i]:\n",
    "                self.topologicalSortUtil(i,visited,stack)    \n",
    "        while stack:\n",
    "            print(stack.pop(),end=' ')\n",
    "    \n",
    "    def topologicalSortUtil(self,v,visited,stack):\n",
    "        visited[v] = True\n",
    "        for vertex in self.vertices[v]:\n",
    "            if not visited[vertex]:\n",
    "                self.topologicalSortUtil(vertex,visited,stack)\n",
    "        stack.append(v)"
   ]
  },
  {
   "cell_type": "code",
   "execution_count": 8,
   "metadata": {},
   "outputs": [],
   "source": [
    "g = Graph(6) \n",
    "g.addEdge(5, 2); \n",
    "g.addEdge(5, 0); \n",
    "g.addEdge(4, 0); \n",
    "g.addEdge(4, 1); \n",
    "g.addEdge(2, 3); \n",
    "g.addEdge(3, 1); "
   ]
  },
  {
   "cell_type": "code",
   "execution_count": 9,
   "metadata": {},
   "outputs": [
    {
     "name": "stdout",
     "output_type": "stream",
     "text": [
      "5 4 2 3 1 0 "
     ]
    }
   ],
   "source": [
    "g.topologicalSort()"
   ]
  }
 ],
 "metadata": {
  "kernelspec": {
   "display_name": "Python 3",
   "language": "python",
   "name": "python3"
  },
  "language_info": {
   "codemirror_mode": {
    "name": "ipython",
    "version": 3
   },
   "file_extension": ".py",
   "mimetype": "text/x-python",
   "name": "python",
   "nbconvert_exporter": "python",
   "pygments_lexer": "ipython3",
   "version": "3.6.4"
  }
 },
 "nbformat": 4,
 "nbformat_minor": 2
}
