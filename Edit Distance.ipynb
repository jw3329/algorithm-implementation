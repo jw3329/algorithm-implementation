{
 "cells": [
  {
   "cell_type": "code",
   "execution_count": 7,
   "metadata": {},
   "outputs": [],
   "source": [
    "def editDist(str1,str2):\n",
    "    return editDistHelper(str1,str2,len(str1),len(str2))"
   ]
  },
  {
   "cell_type": "code",
   "execution_count": 8,
   "metadata": {},
   "outputs": [],
   "source": [
    "# Assume if we have empty string on one side, then it would be total length of other non empty string since we have to \n",
    "# insert or delete every portion of string. This is also allowed when both strings are empty.\n",
    "# Assuming if we have last character in both strings same, then we do not have anything to operate with that character,\n",
    "# which allows us to calculate recursive calculation from first to last index - 1. \n",
    "# If we have different last index, then there might have insertion, deletion, or replacing operation in either string.\n",
    "# One operation would add up 1, and we want to find minimum distance to make both strings same.\n",
    "# We do recursive calculations for all cases, inserting, deleting, and replacing.\n",
    "def editDistHelper(str1,str2,m,n):\n",
    "    if m == 0: return n\n",
    "    if n == 0: return m\n",
    "    if str1[m-1] == str2[n-1]: return editDistHelper(str1,str2,m-1,n-1)\n",
    "    return 1 + min(min(editDistHelper(str1,str2,m,n-1),editDistHelper(str1,str2,m-1,n)),editDistHelper(str1,str2,m-1,n-1))"
   ]
  },
  {
   "cell_type": "code",
   "execution_count": 3,
   "metadata": {},
   "outputs": [],
   "source": [
    "def editDistDp(str1,str2):\n",
    "# Let's have 2d array of dp, which will have dp[m+1][n+1] where m = len(str1), and n = len(str2), and \n",
    "# let's set the result of above result into dp.\n",
    "    m = len(str1)\n",
    "    n = len(str2)\n",
    "    dp = [[0 for _ in range(n+1)] for _ in range(m+1)]\n",
    "    for i in range(m+1):\n",
    "        for j in range(n+1):\n",
    "            if i == 0:\n",
    "                dp[i][j] = j\n",
    "            elif j == 0:\n",
    "                dp[i][j] = i\n",
    "            elif str1[i-1] == str2[j-1]:\n",
    "                dp[i][j] = dp[i-1][j-1]\n",
    "            else:\n",
    "                dp[i][j] = 1 + min(min(dp[i][j-1],dp[i-1][j]),dp[i-1][j-1])\n",
    "    return dp[m][n]"
   ]
  },
  {
   "cell_type": "code",
   "execution_count": 12,
   "metadata": {},
   "outputs": [],
   "source": [
    "str1 = \"sjksanfjkafnaenwfnaweofnwaofwaoi\"\n",
    "str2 = \"sunasdfjasdlfjkjgnkjwanejgknjewfwanfwnfewnfnday\""
   ]
  },
  {
   "cell_type": "code",
   "execution_count": null,
   "metadata": {},
   "outputs": [],
   "source": [
    "print(editDist(str1,str2))"
   ]
  },
  {
   "cell_type": "code",
   "execution_count": 6,
   "metadata": {},
   "outputs": [
    {
     "name": "stdout",
     "output_type": "stream",
     "text": [
      "3\n"
     ]
    }
   ],
   "source": [
    "print(editDistDp(str1,str2))"
   ]
  }
 ],
 "metadata": {
  "kernelspec": {
   "display_name": "Python 3",
   "language": "python",
   "name": "python3"
  },
  "language_info": {
   "codemirror_mode": {
    "name": "ipython",
    "version": 3
   },
   "file_extension": ".py",
   "mimetype": "text/x-python",
   "name": "python",
   "nbconvert_exporter": "python",
   "pygments_lexer": "ipython3",
   "version": "3.6.4"
  }
 },
 "nbformat": 4,
 "nbformat_minor": 2
}
