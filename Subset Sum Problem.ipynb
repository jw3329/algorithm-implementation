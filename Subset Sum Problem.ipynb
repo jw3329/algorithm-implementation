{
 "cells": [
  {
   "cell_type": "code",
   "execution_count": 1,
   "metadata": {},
   "outputs": [],
   "source": [
    "# Given a set of non-negative integers, and a value sum, determine if there is a subset of the given set with sum equal to given sum.\n",
    "# Example:\n",
    "\n",
    "# Input:  set[] = {3, 34, 4, 12, 5, 2}, sum = 9\n",
    "# Output:  True  //There is a subset (4, 5) with sum 9."
   ]
  },
  {
   "cell_type": "code",
   "execution_count": 12,
   "metadata": {},
   "outputs": [],
   "source": [
    "def subsetSum(s,_sum):\n",
    "    if _sum < 0: return False\n",
    "    if _sum == 0: return True\n",
    "    for i in range(len(s)):\n",
    "        if subsetSum(s[:i] + s[i+1:], _sum - s[i]): return True\n",
    "    return False"
   ]
  },
  {
   "cell_type": "code",
   "execution_count": 13,
   "metadata": {},
   "outputs": [],
   "source": [
    "def subsetSum2(s,_sum):\n",
    "    return subsetSum2Helper(s,len(s),_sum)"
   ]
  },
  {
   "cell_type": "code",
   "execution_count": 14,
   "metadata": {},
   "outputs": [],
   "source": [
    "def subsetSum2Helper(s,n,_sum):\n",
    "    if _sum == 0: return True\n",
    "    if n == 0: return False\n",
    "    if s[n-1] > _sum:\n",
    "        return subsetSum2Helper(s,n-1,_sum)\n",
    "    return subsetSum2Helper(s,n-1,_sum) or subsetSum2Helper(s,n-1,_sum-s[n-1])"
   ]
  },
  {
   "cell_type": "code",
   "execution_count": 10,
   "metadata": {},
   "outputs": [],
   "source": [
    "def subsetSumDp(s,_sum):\n",
    "    n = len(s)\n",
    "    dp = [[False for _ in range(_sum+1)] for _ in range(n+1)]\n",
    "    for i in range(n+1):\n",
    "        dp[i][0] = True\n",
    "    for i in range(_sum+1):\n",
    "        dp[0][i] = False\n",
    "    for i in range(1,n+1):\n",
    "        for j in range(1,_sum+1):\n",
    "            if j < s[i-1]:\n",
    "                dp[i][j] = dp[i-1][j]\n",
    "            else:\n",
    "                dp[i][j] = dp[i-1][j] or dp[i-1][j-s[i-1]]\n",
    "    return dp[n][_sum]"
   ]
  },
  {
   "cell_type": "code",
   "execution_count": 4,
   "metadata": {},
   "outputs": [],
   "source": [
    "s = [3,34,4,12,5,2]\n",
    "_sum = 9"
   ]
  },
  {
   "cell_type": "code",
   "execution_count": 15,
   "metadata": {},
   "outputs": [
    {
     "name": "stdout",
     "output_type": "stream",
     "text": [
      "True\n"
     ]
    }
   ],
   "source": [
    "print(subsetSum(s,_sum))"
   ]
  },
  {
   "cell_type": "code",
   "execution_count": 16,
   "metadata": {},
   "outputs": [
    {
     "name": "stdout",
     "output_type": "stream",
     "text": [
      "True\n"
     ]
    }
   ],
   "source": [
    "print(subsetSum2(s,_sum))"
   ]
  },
  {
   "cell_type": "code",
   "execution_count": 11,
   "metadata": {},
   "outputs": [
    {
     "name": "stdout",
     "output_type": "stream",
     "text": [
      "True\n"
     ]
    }
   ],
   "source": [
    "print(subsetSumDp(s,_sum))"
   ]
  }
 ],
 "metadata": {
  "kernelspec": {
   "display_name": "Python 3",
   "language": "python",
   "name": "python3"
  },
  "language_info": {
   "codemirror_mode": {
    "name": "ipython",
    "version": 3
   },
   "file_extension": ".py",
   "mimetype": "text/x-python",
   "name": "python",
   "nbconvert_exporter": "python",
   "pygments_lexer": "ipython3",
   "version": "3.6.4"
  }
 },
 "nbformat": 4,
 "nbformat_minor": 2
}
