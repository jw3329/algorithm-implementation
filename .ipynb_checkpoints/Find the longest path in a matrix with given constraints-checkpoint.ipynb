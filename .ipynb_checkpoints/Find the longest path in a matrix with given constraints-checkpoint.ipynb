{
 "cells": [
  {
   "cell_type": "code",
   "execution_count": 1,
   "metadata": {},
   "outputs": [],
   "source": [
    "# Given a n*n matrix where all numbers are distinct, find the maximum length path (starting from any cell) such that all cells along the path are in increasing order with a difference of 1.\n",
    "\n",
    "# We can move in 4 directions from a given cell (i, j), i.e., we can move to (i+1, j) or (i, j+1) or (i-1, j) or (i, j-1) with the condition that the adjacent cells have a difference of 1.\n",
    "\n",
    "# Example:\n",
    "\n",
    "# Input:  mat[][] = {{1, 2, 9}\n",
    "#                    {5, 3, 8}\n",
    "#                    {4, 6, 7}}\n",
    "# Output: 4\n",
    "# The longest path is 6-7-8-9. "
   ]
  },
  {
   "cell_type": "code",
   "execution_count": 2,
   "metadata": {},
   "outputs": [],
   "source": [
    "def longestPath(mat):\n",
    "    n = len(mat)\n",
    "    res = 1\n",
    "    dp = [[-1 for _ in range(n)] for _ in range(n)]\n",
    "    for i in range(n):\n",
    "        for j in range(n):\n",
    "            if dp[i][j] == -1:\n",
    "                longestPathHelper(mat,i,j,dp,n)\n",
    "                res = max(res,dp[i][j])\n",
    "    return res"
   ]
  },
  {
   "cell_type": "code",
   "execution_count": 3,
   "metadata": {},
   "outputs": [],
   "source": [
    "def longestPathHelper(mat,i,j,dp,n):\n",
    "    if outOfConstraint(i,j,n): return 0\n",
    "    if dp[i][j] != -1: return dp[i][j]\n",
    "    if j < n-1 and mat[i][j] + 1 == mat[i][j+1]:\n",
    "        dp[i][j] = 1 + longestPathHelper(mat,i,j+1,dp,n)\n",
    "        return dp[i][j]\n",
    "    if j > 0 and mat[i][j] + 1 == mat[i][j-1]:\n",
    "        dp[i][j] = 1 + longestPathHelper(mat,i,j-1,dp,n)\n",
    "        return dp[i][j]\n",
    "    if i < n-1 and mat[i][j] + 1 == mat[i+1][j]:\n",
    "        dp[i][j] = 1 + longestPathHelper(mat,i+1,j,dp,n)\n",
    "        return dp[i][j]\n",
    "    if i > 0 and mat[i][j] + 1 == mat[i-1][j]:\n",
    "        dp[i][j] = 1 + longestPathHelper(mat,i-1,j,dp,n)\n",
    "        return dp[i][j]\n",
    "    dp[i][j] = 1\n",
    "    return dp[i][j]"
   ]
  },
  {
   "cell_type": "code",
   "execution_count": 4,
   "metadata": {},
   "outputs": [],
   "source": [
    "def outOfConstraint(i,j,n):\n",
    "    return i < 0 and i >= n and j < 0 and j >= n"
   ]
  },
  {
   "cell_type": "code",
   "execution_count": 5,
   "metadata": {},
   "outputs": [],
   "source": [
    "mat = [[1, 2, 9],  \n",
    "    [5, 3, 8], \n",
    "    [4, 6, 7]]  "
   ]
  },
  {
   "cell_type": "code",
   "execution_count": 6,
   "metadata": {},
   "outputs": [
    {
     "name": "stdout",
     "output_type": "stream",
     "text": [
      "4\n"
     ]
    }
   ],
   "source": [
    "print(longestPath(mat))"
   ]
  }
 ],
 "metadata": {
  "kernelspec": {
   "display_name": "Python 3",
   "language": "python",
   "name": "python3"
  },
  "language_info": {
   "codemirror_mode": {
    "name": "ipython",
    "version": 3
   },
   "file_extension": ".py",
   "mimetype": "text/x-python",
   "name": "python",
   "nbconvert_exporter": "python",
   "pygments_lexer": "ipython3",
   "version": "3.6.4"
  }
 },
 "nbformat": 4,
 "nbformat_minor": 2
}
