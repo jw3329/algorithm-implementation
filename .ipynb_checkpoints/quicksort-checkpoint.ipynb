{
 "cells": [
  {
   "cell_type": "code",
   "execution_count": 1,
   "metadata": {},
   "outputs": [],
   "source": [
    "def quicksort(arr):\n",
    "    quicksortHelper(arr,0,len(arr)-1)"
   ]
  },
  {
   "cell_type": "code",
   "execution_count": 2,
   "metadata": {},
   "outputs": [],
   "source": [
    "def quicksortHelper(arr,start,end):\n",
    "    if start >= end: return\n",
    "    pivot_index = partition(arr,start,end)\n",
    "    quicksortHelper(arr,start,pivot_index-1)\n",
    "    quicksortHelper(arr,pivot_index+1,end)"
   ]
  },
  {
   "cell_type": "code",
   "execution_count": 17,
   "metadata": {},
   "outputs": [],
   "source": [
    "'''\n",
    "    select the last element as the pivot, set i as start index - 1,\n",
    "    then interate from start index to end - 1 index as j,\n",
    "    if arr[j] is less than or equal to pivot value, then increment i as 1,\n",
    "    then swap those element.\n",
    "    After, swap pivot element and i + 1 element, where pivot index is now i + 1,\n",
    "    so return i + 1\n",
    "'''\n",
    "\n",
    "def partition(arr,start,end):\n",
    "    pivot = arr[end]\n",
    "    i = start - 1\n",
    "    for j in range(start,end):\n",
    "        if arr[j] <= pivot:\n",
    "            i += 1\n",
    "            swap(arr,i,j)\n",
    "    swap(arr,i+1,end)\n",
    "    return i+1"
   ]
  },
  {
   "cell_type": "code",
   "execution_count": 4,
   "metadata": {},
   "outputs": [],
   "source": [
    "def swap(arr,a,b):\n",
    "    temp = arr[a]\n",
    "    arr[a] = arr[b]\n",
    "    arr[b] = temp"
   ]
  },
  {
   "cell_type": "code",
   "execution_count": 9,
   "metadata": {},
   "outputs": [
    {
     "name": "stdout",
     "output_type": "stream",
     "text": [
      "[6607, 6948, 2757, 5567, 6738, 6368, 2570, 1807, 2880, 6823, 3063, 7661, 1493, 5723, 6476, 9760, 5257, 3878, 4019, 4813, 2092, 4797, 8504, 888, 7193, 9573, 3075, 2424, 8394, 1974, 4696, 1386, 697, 9832, 5949, 5358, 413, 7286, 9422, 6956, 8230, 1922, 1976, 9977, 5087, 3196, 4004, 2150, 8043, 7480, 9172, 1405, 9908, 6644, 4048, 8251, 6610, 9888, 7895, 7272, 1297, 8292, 8016, 4436, 3210, 2512, 9830, 8553, 8903, 3489, 5956, 3082, 7125, 1884, 8982, 9002, 5082, 26, 1146, 2554, 3459, 1262, 9544, 2784, 2550, 9741, 5950, 9866, 6548, 1863, 8836, 6570, 5124, 7409, 3699, 1092, 8362, 7030, 7090, 89]\n"
     ]
    }
   ],
   "source": [
    "import random\n",
    "arr=[]\n",
    "for i in range(100):\n",
    "    arr.append(random.randint(0,10000))\n",
    "print(arr)"
   ]
  },
  {
   "cell_type": "code",
   "execution_count": 18,
   "metadata": {},
   "outputs": [
    {
     "name": "stdout",
     "output_type": "stream",
     "text": [
      "[26, 89, 413, 697, 888, 1092, 1146, 1262, 1297, 1386, 1405, 1493, 1807, 1863, 1884, 1922, 1974, 1976, 2092, 2150, 2424, 2512, 2550, 2554, 2570, 2757, 2784, 2880, 3063, 3075, 3082, 3196, 3210, 3459, 3489, 3699, 3878, 4004, 4019, 4048, 4436, 4696, 4797, 4813, 5082, 5087, 5124, 5257, 5358, 5567, 5723, 5949, 5950, 5956, 6368, 6476, 6548, 6570, 6607, 6610, 6644, 6738, 6823, 6948, 6956, 7030, 7090, 7125, 7193, 7272, 7286, 7409, 7480, 7661, 7895, 8016, 8043, 8230, 8251, 8292, 8362, 8394, 8504, 8553, 8836, 8903, 8982, 9002, 9172, 9422, 9544, 9573, 9741, 9760, 9830, 9832, 9866, 9888, 9908, 9977]\n"
     ]
    }
   ],
   "source": [
    "quicksort(arr)\n",
    "print(arr)"
   ]
  }
 ],
 "metadata": {
  "kernelspec": {
   "display_name": "Python 3",
   "language": "python",
   "name": "python3"
  },
  "language_info": {
   "codemirror_mode": {
    "name": "ipython",
    "version": 3
   },
   "file_extension": ".py",
   "mimetype": "text/x-python",
   "name": "python",
   "nbconvert_exporter": "python",
   "pygments_lexer": "ipython3",
   "version": "3.6.4"
  }
 },
 "nbformat": 4,
 "nbformat_minor": 2
}
