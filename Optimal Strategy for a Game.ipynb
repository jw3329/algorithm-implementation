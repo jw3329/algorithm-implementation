{
 "cells": [
  {
   "cell_type": "code",
   "execution_count": 2,
   "metadata": {},
   "outputs": [],
   "source": [
    "# Problem statement: Consider a row of n coins of values v1 . . . vn, where n is even. We play a game against an opponent by alternating turns. In each turn, a player selects either the first or last coin from the row, removes it from the row permanently, and receives the value of the coin. Determine the maximum possible amount of money we can definitely win if we move first.\n",
    "\n",
    "# Note: The opponent is as clever as the user.\n",
    "\n",
    "#     Let us understand the problem with few examples:\n",
    "\n",
    "#     1. 5, 3, 7, 10 : The user collects maximum value as 15(10 + 5)\n",
    "\n",
    "#     2. 8, 15, 3, 7 : The user collects maximum value as 22(7 + 15)"
   ]
  },
  {
   "cell_type": "code",
   "execution_count": 3,
   "metadata": {},
   "outputs": [],
   "source": [
    "def OSG(arr):\n",
    "    return OSGHelper(arr,0,len(arr)-1)"
   ]
  },
  {
   "cell_type": "code",
   "execution_count": 9,
   "metadata": {},
   "outputs": [],
   "source": [
    "def OSGHelper(arr,i,j):\n",
    "    if i == j: return arr[i]\n",
    "    if i + 1 == j: return max(arr[i],arr[j])\n",
    "    return max(arr[i] + min(OSGHelper(arr,i+2,j),OSGHelper(arr,i+1,j-1)),\n",
    "                  arr[j] + min(OSGHelper(arr,i,j-2),OSGHelper(arr,i+1,j-1))\n",
    "    )"
   ]
  },
  {
   "cell_type": "code",
   "execution_count": 33,
   "metadata": {},
   "outputs": [],
   "source": [
    "def OSGDp(arr):\n",
    "    n = len(arr)\n",
    "    dp = [[0 for _ in range(n)] for _ in range(n)]\n",
    "    for gap in range(n):\n",
    "        for j in range(gap,n):\n",
    "            i = j-gap\n",
    "#             x = 0\n",
    "#             if i + 2 <= j:\n",
    "#                 x = dp[i+2][j]\n",
    "#             y = 0\n",
    "#             if i + 1 <= j - 1:\n",
    "#                 y = dp[i+1][j-1]\n",
    "#             z = 0\n",
    "#             if i <= j - 2:\n",
    "#                 z = dp[i][j-2]\n",
    "            x,y,z = 0,0,0\n",
    "            if i + 2 <= j:\n",
    "                x = dp[i+2][j]\n",
    "                y = dp[i+1][j-1]\n",
    "                z = dp[i][j-2]\n",
    "            dp[i][j] = max(arr[i]+min(x,y),arr[j]+min(y,z))\n",
    "    return dp[0][n-1]"
   ]
  },
  {
   "cell_type": "code",
   "execution_count": 18,
   "metadata": {},
   "outputs": [],
   "source": [
    "arr = [8,15,3,7]"
   ]
  },
  {
   "cell_type": "code",
   "execution_count": 24,
   "metadata": {},
   "outputs": [],
   "source": [
    "arr2 = [20,30,2,2,2,10]"
   ]
  },
  {
   "cell_type": "code",
   "execution_count": 25,
   "metadata": {},
   "outputs": [
    {
     "name": "stdout",
     "output_type": "stream",
     "text": [
      "42\n"
     ]
    }
   ],
   "source": [
    "print(OSG(arr2))"
   ]
  },
  {
   "cell_type": "code",
   "execution_count": 34,
   "metadata": {},
   "outputs": [
    {
     "name": "stdout",
     "output_type": "stream",
     "text": [
      "42\n"
     ]
    }
   ],
   "source": [
    "print(OSGDp(arr2))"
   ]
  }
 ],
 "metadata": {
  "kernelspec": {
   "display_name": "Python 3",
   "language": "python",
   "name": "python3"
  },
  "language_info": {
   "codemirror_mode": {
    "name": "ipython",
    "version": 3
   },
   "file_extension": ".py",
   "mimetype": "text/x-python",
   "name": "python",
   "nbconvert_exporter": "python",
   "pygments_lexer": "ipython3",
   "version": "3.6.4"
  }
 },
 "nbformat": 4,
 "nbformat_minor": 2
}
