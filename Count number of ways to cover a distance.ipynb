{
 "cells": [
  {
   "cell_type": "code",
   "execution_count": 1,
   "metadata": {},
   "outputs": [],
   "source": [
    "# Input:  n = 3\n",
    "# Output: 4\n",
    "# Below are the four ways\n",
    "#  1 step + 1 step + 1 step\n",
    "#  1 step + 2 step\n",
    "#  2 step + 1 step\n",
    "#  3 step\n",
    "\n",
    "# Input:  n = 4\n",
    "# Output: 7"
   ]
  },
  {
   "cell_type": "code",
   "execution_count": 11,
   "metadata": {},
   "outputs": [],
   "source": [
    "def coverDist(n):\n",
    "    if n < 0: return 0\n",
    "    if n <= 1: return 1\n",
    "    return coverDist(n-1) + coverDist(n-2) + coverDist(n-3)"
   ]
  },
  {
   "cell_type": "code",
   "execution_count": 14,
   "metadata": {},
   "outputs": [],
   "source": [
    "def coverDistDp(n):\n",
    "    dp = [0 for _ in range(n+1)]\n",
    "    dp[:2] = [1,1]\n",
    "    for i in range(2,n+1):\n",
    "        for j in range(1,4):\n",
    "            if i-j >= 0:\n",
    "                dp[i] += dp[i-j]\n",
    "    return dp[n]"
   ]
  },
  {
   "cell_type": "code",
   "execution_count": 18,
   "metadata": {},
   "outputs": [
    {
     "name": "stdout",
     "output_type": "stream",
     "text": [
      "4\n"
     ]
    }
   ],
   "source": [
    "print(coverDist(3))"
   ]
  },
  {
   "cell_type": "code",
   "execution_count": 20,
   "metadata": {},
   "outputs": [
    {
     "name": "stdout",
     "output_type": "stream",
     "text": [
      "4\n"
     ]
    }
   ],
   "source": [
    "print(coverDistDp(3))"
   ]
  },
  {
   "cell_type": "code",
   "execution_count": 24,
   "metadata": {},
   "outputs": [],
   "source": [
    "n = 9"
   ]
  },
  {
   "cell_type": "code",
   "execution_count": 25,
   "metadata": {},
   "outputs": [
    {
     "name": "stdout",
     "output_type": "stream",
     "text": [
      "True\n"
     ]
    }
   ],
   "source": [
    "print(coverDist(n) == coverDistDp(n))"
   ]
  }
 ],
 "metadata": {
  "kernelspec": {
   "display_name": "Python 3",
   "language": "python",
   "name": "python3"
  },
  "language_info": {
   "codemirror_mode": {
    "name": "ipython",
    "version": 3
   },
   "file_extension": ".py",
   "mimetype": "text/x-python",
   "name": "python",
   "nbconvert_exporter": "python",
   "pygments_lexer": "ipython3",
   "version": "3.6.4"
  }
 },
 "nbformat": 4,
 "nbformat_minor": 2
}
