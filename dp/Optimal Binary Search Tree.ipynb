{
 "cells": [
  {
   "cell_type": "code",
   "execution_count": 5,
   "metadata": {},
   "outputs": [],
   "source": [
    "import sys"
   ]
  },
  {
   "cell_type": "code",
   "execution_count": 6,
   "metadata": {},
   "outputs": [],
   "source": [
    "def optimalBST(key,freq):\n",
    "    return optimalBSTHelper(freq,0,len(freq)-1)"
   ]
  },
  {
   "cell_type": "code",
   "execution_count": 10,
   "metadata": {},
   "outputs": [],
   "source": [
    "def optimalBSTHelper(freq,i,j):\n",
    "    if i > j: return 0\n",
    "    if i == j: return freq[i]\n",
    "    fSum = sum(freq[i:j+1])\n",
    "    minVal = sys.maxsize\n",
    "    for r in range(i,j+1):\n",
    "        minVal = min(minVal,optimalBSTHelper(freq,i,r-1) + optimalBSTHelper(freq,r+1,j))\n",
    "    return fSum + minVal"
   ]
  },
  {
   "cell_type": "code",
   "execution_count": 16,
   "metadata": {},
   "outputs": [],
   "source": [
    "def optimalBSTDp(key,freq):\n",
    "    n = len(freq)\n",
    "    dp = [[0 for _ in range(n+1)] for _ in range(n+1)]\n",
    "    for i in range(n+1):\n",
    "        for j in range(i,n+1):\n",
    "            if i == j: continue\n",
    "            if i + 1 == j: dp[i][j] = freq[i]\n",
    "            else:\n",
    "                fSum = sum(freq[i:j+1])\n",
    "                minVal = sys.maxsize\n",
    "                for r in range(i+1,j+1):\n",
    "                    minVal = min(minVal,dp[i][r-1] + dp[r][j])\n",
    "                dp[i][j] = minVal + fSum\n",
    "    print(dp)\n",
    "    return dp[0][n-1]"
   ]
  },
  {
   "cell_type": "code",
   "execution_count": 7,
   "metadata": {},
   "outputs": [],
   "source": [
    "key = [10,20,30,40]\n",
    "freq = [4,2,6,3]"
   ]
  },
  {
   "cell_type": "code",
   "execution_count": 8,
   "metadata": {},
   "outputs": [
    {
     "ename": "NameError",
     "evalue": "name 'optimalBST' is not defined",
     "output_type": "error",
     "traceback": [
      "\u001b[1;31m--------------------------------------------------\u001b[0m",
      "\u001b[1;31mNameError\u001b[0m        Traceback (most recent call last)",
      "\u001b[1;32m<ipython-input-8-ef74d9397533>\u001b[0m in \u001b[0;36m<module>\u001b[1;34m()\u001b[0m\n\u001b[1;32m----> 1\u001b[1;33m \u001b[0mprint\u001b[0m\u001b[1;33m(\u001b[0m\u001b[0moptimalBST\u001b[0m\u001b[1;33m(\u001b[0m\u001b[0mkey\u001b[0m\u001b[1;33m,\u001b[0m\u001b[0mfreq\u001b[0m\u001b[1;33m)\u001b[0m\u001b[1;33m)\u001b[0m\u001b[1;33m\u001b[0m\u001b[0m\n\u001b[0m",
      "\u001b[1;31mNameError\u001b[0m: name 'optimalBST' is not defined"
     ]
    }
   ],
   "source": [
    "print(optimalBST(key,freq))"
   ]
  },
  {
   "cell_type": "code",
   "execution_count": 17,
   "metadata": {},
   "outputs": [
    {
     "name": "stdout",
     "output_type": "stream",
     "text": [
      "[[0, 4, 12, 15, 15], [0, 0, 2, 11, 11], [0, 0, 0, 6, 9], [0, 0, 0, 0, 3], [0, 0, 0, 0, 0]]\n",
      "15\n"
     ]
    }
   ],
   "source": [
    "print(optimalBSTDp(key,freq))"
   ]
  }
 ],
 "metadata": {
  "kernelspec": {
   "display_name": "Python 3",
   "language": "python",
   "name": "python3"
  },
  "language_info": {
   "codemirror_mode": {
    "name": "ipython",
    "version": 3
   },
   "file_extension": ".py",
   "mimetype": "text/x-python",
   "name": "python",
   "nbconvert_exporter": "python",
   "pygments_lexer": "ipython3",
   "version": "3.6.4"
  }
 },
 "nbformat": 4,
 "nbformat_minor": 2
}
