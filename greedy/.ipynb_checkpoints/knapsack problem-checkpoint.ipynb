{
 "cells": [
  {
   "cell_type": "code",
   "execution_count": 1,
   "metadata": {},
   "outputs": [],
   "source": [
    "def knapsack(arr,m):\n",
    "    arr = arr.copy()\n",
    "    n = len(arr)\n",
    "    rate = [arr[i][0] / arr[i][1] for i in range(n)]\n",
    "    curWeight = 0\n",
    "    profit = 0\n",
    "    j = 0\n",
    "    print(rate)\n",
    "    while j < len(arr):\n",
    "        maxIndex = -1\n",
    "        maxRate = -1\n",
    "        for i in range(len(rate)):\n",
    "            if maxRate < rate[i]:\n",
    "                maxIndex = i\n",
    "                maxRate = rate[i]\n",
    "        if curWeight + arr[maxIndex][1] <= m:\n",
    "            curWeight += arr[maxIndex][1]\n",
    "            profit += arr[maxIndex][0]\n",
    "            rate.pop(maxIndex)\n",
    "            arr.pop(maxIndex)\n",
    "        else:\n",
    "            j += 1\n",
    "        print(curWeight)\n",
    "    return profit"
   ]
  },
  {
   "cell_type": "code",
   "execution_count": 2,
   "metadata": {},
   "outputs": [],
   "source": [
    "arr = [[10,2],[5,3],[15,5],[7,7],[6,1],[18,4],[3,1]] #front --> profit, back --> weight"
   ]
  },
  {
   "cell_type": "code",
   "execution_count": 3,
   "metadata": {},
   "outputs": [
    {
     "name": "stdout",
     "output_type": "stream",
     "text": [
      "[5.0, 1.6666666666666667, 3.0, 1.0, 6.0, 4.5, 3.0]\n",
      "1\n",
      "3\n",
      "7\n",
      "12\n",
      "13\n",
      "13\n",
      "13\n",
      "52\n"
     ]
    }
   ],
   "source": [
    "print(knapsack(arr,15))"
   ]
  }
 ],
 "metadata": {
  "kernelspec": {
   "display_name": "Python 3",
   "language": "python",
   "name": "python3"
  },
  "language_info": {
   "codemirror_mode": {
    "name": "ipython",
    "version": 3
   },
   "file_extension": ".py",
   "mimetype": "text/x-python",
   "name": "python",
   "nbconvert_exporter": "python",
   "pygments_lexer": "ipython3",
   "version": "3.6.4"
  }
 },
 "nbformat": 4,
 "nbformat_minor": 2
}
