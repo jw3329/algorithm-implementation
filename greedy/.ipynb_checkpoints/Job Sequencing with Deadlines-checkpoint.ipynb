{
 "cells": [
  {
   "cell_type": "code",
   "execution_count": 1,
   "metadata": {},
   "outputs": [],
   "source": [
    "def jsd(arr,m):\n",
    "    occupied = [False for _ in range(m)]\n",
    "    sortedArr = sorted(arr,key=lambda x : x[0], reverse=True)\n",
    "    res = 0\n",
    "    for elem in sortedArr:\n",
    "        i = elem[1]\n",
    "        while i - 1 >= 0 and occupied[i-1]:\n",
    "            i -= 1\n",
    "        if i - 1 >= 0:\n",
    "            res += elem[0]\n",
    "            occupied[i - 1] = True\n",
    "    return res"
   ]
  },
  {
   "cell_type": "code",
   "execution_count": 2,
   "metadata": {},
   "outputs": [],
   "source": [
    "arr = [[35,3],[30,4],[25,4],[20,2],[15,3],[12,1],[5,2]]"
   ]
  },
  {
   "cell_type": "code",
   "execution_count": 3,
   "metadata": {},
   "outputs": [
    {
     "name": "stdout",
     "output_type": "stream",
     "text": [
      "110\n"
     ]
    }
   ],
   "source": [
    "print(jsd(arr,4))"
   ]
  }
 ],
 "metadata": {
  "kernelspec": {
   "display_name": "Python 3",
   "language": "python",
   "name": "python3"
  },
  "language_info": {
   "codemirror_mode": {
    "name": "ipython",
    "version": 3
   },
   "file_extension": ".py",
   "mimetype": "text/x-python",
   "name": "python",
   "nbconvert_exporter": "python",
   "pygments_lexer": "ipython3",
   "version": "3.6.4"
  }
 },
 "nbformat": 4,
 "nbformat_minor": 2
}
