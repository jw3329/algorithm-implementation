{
 "cells": [
  {
   "cell_type": "code",
   "execution_count": 1,
   "metadata": {},
   "outputs": [],
   "source": [
    "# Given weights and values of n items, put these items in a knapsack of capacity W to get the maximum total value in the knapsack. In other words, given two integer arrays val[0..n-1] and wt[0..n-1] which represent values and weights associated with n items respectively. Also given an integer W which represents knapsack capacity, find out the maximum value subset of val[] such that sum of the weights of this subset is smaller than or equal to W. You cannot break an item, either pick the complete item, or don’t pick it (0-1 property)."
   ]
  },
  {
   "cell_type": "code",
   "execution_count": 10,
   "metadata": {},
   "outputs": [],
   "source": [
    "def knapsack(value,weight,w):\n",
    "    return knapsackHelper(value,weight,w,len(value),0,0)"
   ]
  },
  {
   "cell_type": "code",
   "execution_count": 19,
   "metadata": {},
   "outputs": [],
   "source": [
    "def knapsackHelper(value,weight,w,n,valueSum,weightSum):\n",
    "    if weightSum > w: return 0\n",
    "    maxVal = valueSum\n",
    "    for i in range(n):        \n",
    "        maxVal = max(maxVal,kanpsackHelper(value[:i] + value[i+1:], weight[:i] + weight[i+1:], w,\n",
    "                                           n-1, valueSum + value[i], weightSum + weight[i]))\n",
    "    return maxVal"
   ]
  },
  {
   "cell_type": "code",
   "execution_count": 24,
   "metadata": {},
   "outputs": [],
   "source": [
    "def knapsackSolution(value,weight,w):\n",
    "    return knapsackSolutionHelper(value,weight,w,len(value))"
   ]
  },
  {
   "cell_type": "code",
   "execution_count": 21,
   "metadata": {},
   "outputs": [],
   "source": [
    "def knapsackSolutionHelper(value,weight,w,n):\n",
    "    if n == 0 or w == 0: return 0\n",
    "    if weight[n-1] > w: return knapsackSolutionHelper(value,weight,w,n-1)\n",
    "    return max(value[n-1] + knapsackSolutionHelper(value,weight,w-weight[n-1],n-1), \n",
    "               knapsackSolutionHelper(value,weight,w,n-1))"
   ]
  },
  {
   "cell_type": "code",
   "execution_count": 45,
   "metadata": {},
   "outputs": [],
   "source": [
    "def knapsackDp(value,weight,w):\n",
    "    n = len(value)\n",
    "    # dp[w][n] for above expression\n",
    "    dp = [[0 for _ in range(n+1)] for _ in range(w+1)]\n",
    "    for i in range(w+1):\n",
    "        for j in range(n+1):\n",
    "            if i == 0 or j == 0: dp[i][j] = 0\n",
    "            elif weight[j-1] > i: dp[i][j] = dp[i][j-1]\n",
    "            else: dp[i][j] = max(value[j-1] + dp[i-weight[j-1]][j-1], dp[i][j-1])\n",
    "    return dp[w][n]"
   ]
  },
  {
   "cell_type": "code",
   "execution_count": 43,
   "metadata": {},
   "outputs": [
    {
     "name": "stdout",
     "output_type": "stream",
     "text": [
      "True\n"
     ]
    }
   ],
   "source": [
    "value = [60,100,120,240,510,3125,4032,153,12,5263,523]\n",
    "weight = [10,20,30, 15,27,21,37,12,6,13,24]\n",
    "print(len(value) == len(weight))\n",
    "W = 100"
   ]
  },
  {
   "cell_type": "code",
   "execution_count": 33,
   "metadata": {},
   "outputs": [],
   "source": [
    "import time"
   ]
  },
  {
   "cell_type": "code",
   "execution_count": 39,
   "metadata": {},
   "outputs": [
    {
     "name": "stdout",
     "output_type": "stream",
     "text": [
      "12943\n",
      "0.61635422706604\n"
     ]
    }
   ],
   "source": [
    "start = time.time()\n",
    "print(knapsack(value,weight,W))\n",
    "end = time.time() - start\n",
    "print(end)"
   ]
  },
  {
   "cell_type": "code",
   "execution_count": 40,
   "metadata": {},
   "outputs": [
    {
     "name": "stdout",
     "output_type": "stream",
     "text": [
      "12943\n",
      "0.0019948482513427734\n"
     ]
    }
   ],
   "source": [
    "start = time.time()\n",
    "print(knapsackSolution(value,weight,W))\n",
    "end = time.time() - start\n",
    "print(end)"
   ]
  },
  {
   "cell_type": "code",
   "execution_count": 46,
   "metadata": {},
   "outputs": [
    {
     "name": "stdout",
     "output_type": "stream",
     "text": [
      "12943\n",
      "0.0019943714141845703\n"
     ]
    }
   ],
   "source": [
    "start = time.time()\n",
    "print(knapsackDp(value,weight,W))\n",
    "end = time.time() - start\n",
    "print(end)"
   ]
  }
 ],
 "metadata": {
  "kernelspec": {
   "display_name": "Python 3",
   "language": "python",
   "name": "python3"
  },
  "language_info": {
   "codemirror_mode": {
    "name": "ipython",
    "version": 3
   },
   "file_extension": ".py",
   "mimetype": "text/x-python",
   "name": "python",
   "nbconvert_exporter": "python",
   "pygments_lexer": "ipython3",
   "version": "3.6.4"
  }
 },
 "nbformat": 4,
 "nbformat_minor": 2
}
